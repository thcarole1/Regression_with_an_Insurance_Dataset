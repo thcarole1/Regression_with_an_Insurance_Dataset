{
 "cells": [
  {
   "cell_type": "code",
   "execution_count": null,
   "id": "36d17405-6d73-4234-a98a-82b8a2ffc716",
   "metadata": {},
   "outputs": [],
   "source": []
  }
 ],
 "metadata": {
  "kernelspec": {
   "display_name": "",
   "name": ""
  },
  "language_info": {
   "name": ""
  }
 },
 "nbformat": 4,
 "nbformat_minor": 5
}
